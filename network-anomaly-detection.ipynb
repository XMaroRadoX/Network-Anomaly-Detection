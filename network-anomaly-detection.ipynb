{
 "cells": [
  {
   "cell_type": "markdown",
   "id": "1cc3bd5c",
   "metadata": {
    "papermill": {
     "duration": 0.003611,
     "end_time": "2023-03-29T11:01:30.813509",
     "exception": false,
     "start_time": "2023-03-29T11:01:30.809898",
     "status": "completed"
    },
    "tags": []
   },
   "source": []
  },
  {
   "cell_type": "markdown",
   "id": "5854510f",
   "metadata": {
    "papermill": {
     "duration": 0.001867,
     "end_time": "2023-03-29T11:01:30.818174",
     "exception": false,
     "start_time": "2023-03-29T11:01:30.816307",
     "status": "completed"
    },
    "tags": []
   },
   "source": []
  },
  {
   "cell_type": "markdown",
   "id": "85b2a220",
   "metadata": {
    "papermill": {
     "duration": 0.002184,
     "end_time": "2023-03-29T11:01:30.823236",
     "exception": false,
     "start_time": "2023-03-29T11:01:30.821052",
     "status": "completed"
    },
    "tags": []
   },
   "source": []
  }
 ],
 "metadata": {
  "kernelspec": {
   "display_name": "Python 3",
   "language": "python",
   "name": "python3"
  },
  "language_info": {
   "codemirror_mode": {
    "name": "ipython",
    "version": 3
   },
   "file_extension": ".py",
   "mimetype": "text/x-python",
   "name": "python",
   "nbconvert_exporter": "python",
   "pygments_lexer": "ipython3",
   "version": "3.7.12"
  },
  "papermill": {
   "default_parameters": {},
   "duration": 10.729057,
   "end_time": "2023-03-29T11:01:31.456281",
   "environment_variables": {},
   "exception": null,
   "input_path": "__notebook__.ipynb",
   "output_path": "__notebook__.ipynb",
   "parameters": {},
   "start_time": "2023-03-29T11:01:20.727224",
   "version": "2.4.0"
  }
 },
 "nbformat": 4,
 "nbformat_minor": 5
}
